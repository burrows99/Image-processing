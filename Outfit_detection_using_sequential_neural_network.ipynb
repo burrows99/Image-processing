{
  "nbformat": 4,
  "nbformat_minor": 0,
  "metadata": {
    "colab": {
      "name": "Outfit detection using sequential neural network.ipynb",
      "provenance": [],
      "collapsed_sections": [],
      "authorship_tag": "ABX9TyNohiDybivRWPsKujhDSRgU",
      "include_colab_link": true
    },
    "kernelspec": {
      "name": "python3",
      "display_name": "Python 3"
    }
  },
  "cells": [
    {
      "cell_type": "markdown",
      "metadata": {
        "id": "view-in-github",
        "colab_type": "text"
      },
      "source": [
        "<a href=\"https://colab.research.google.com/github/burrows99/Image-processing/blob/main/Outfit_detection_using_sequential_neural_network.ipynb\" target=\"_parent\"><img src=\"https://colab.research.google.com/assets/colab-badge.svg\" alt=\"Open In Colab\"/></a>"
      ]
    },
    {
      "cell_type": "code",
      "metadata": {
        "id": "t9CzFg-8cfih"
      },
      "source": [
        "import tensorflow as tf\n",
        "from tensorflow import keras\n",
        "\n",
        "import numpy as np\n",
        "import matplotlib.pyplot as plt"
      ],
      "execution_count": null,
      "outputs": []
    },
    {
      "cell_type": "code",
      "metadata": {
        "id": "WO5hFxiiKQOI",
        "colab": {
          "base_uri": "https://localhost:8080/"
        },
        "outputId": "b6153d40-b9c6-45f7-dc29-75f342dfceae"
      },
      "source": [
        "ds=keras.datasets.fashion_mnist #load fashion mnist dataset\n",
        "(train_i,train_l),(test_i,test_l)=ds.load_data() #split dataset into training and testing"
      ],
      "execution_count": null,
      "outputs": [
        {
          "output_type": "stream",
          "text": [
            "Downloading data from https://storage.googleapis.com/tensorflow/tf-keras-datasets/train-labels-idx1-ubyte.gz\n",
            "32768/29515 [=================================] - 0s 0us/step\n",
            "Downloading data from https://storage.googleapis.com/tensorflow/tf-keras-datasets/train-images-idx3-ubyte.gz\n",
            "26427392/26421880 [==============================] - 0s 0us/step\n",
            "Downloading data from https://storage.googleapis.com/tensorflow/tf-keras-datasets/t10k-labels-idx1-ubyte.gz\n",
            "8192/5148 [===============================================] - 0s 0us/step\n",
            "Downloading data from https://storage.googleapis.com/tensorflow/tf-keras-datasets/t10k-images-idx3-ubyte.gz\n",
            "4423680/4422102 [==============================] - 0s 0us/step\n"
          ],
          "name": "stdout"
        }
      ]
    },
    {
      "cell_type": "code",
      "metadata": {
        "id": "QjCd1MiKLlS7"
      },
      "source": [
        "l_names=['Tshit/Top','Trouser','Pullover','Dress','Coat','Sandal','Shirt','Sneaker','Bag','Ankel Boot']"
      ],
      "execution_count": null,
      "outputs": []
    },
    {
      "cell_type": "code",
      "metadata": {
        "id": "GCwghM5jOFdC"
      },
      "source": [
        "#to look at one image from the dataset\n",
        "plt.figure()\n",
        "plt.imshow(train_i[1]) #shows image\n",
        "plt.colorbar() #shows colour bar on the side of the image\n",
        "plt.grid(True) #Pts the image on a grid"
      ],
      "execution_count": null,
      "outputs": []
    },
    {
      "cell_type": "code",
      "metadata": {
        "id": "XBX_1E5bPSZM"
      },
      "source": [
        "#Data preprocessing\n",
        "train_i=train_i/255.0 #since pixel values are from 0-255 so this will put the values in the range [0,1]\n",
        "test_i=test_i/255.0"
      ],
      "execution_count": null,
      "outputs": []
    },
    {
      "cell_type": "code",
      "metadata": {
        "id": "iDXqa0AqQHQc"
      },
      "source": [
        "#creating model\n",
        "model=keras.Sequential([\n",
        "                        keras.layers.Flatten(input_shape=(28,28)), #input_shape=(28,28) to convert the matrix of pixels in a linear format to be sent to the network as nodes\n",
        "                        keras.layers.Dense(128,activation='relu'), #128 -> number of nodes in hidden layer\n",
        "                        keras.layers.Dense(10,activation='softmax') #10 since there are 10 possible puts from l_names\n",
        "])\n",
        "\n",
        "#compiling the model\n",
        "model.compile(optimizer='adam',loss='sparse_categorical_crossentropy',metrics=['accuracy'])\n",
        "#in optimizer we put the algorithm that performs the gradient descent\n",
        "#in loss we put the algorithm\n",
        "\n",
        "#training the model\n",
        "model.fit(train_i,train_l,epochs=1) #epochs indicates the number of passes of the entire training dataset the machine learning algorithm has to complete to be called as trained.\n"
      ],
      "execution_count": null,
      "outputs": []
    },
    {
      "cell_type": "code",
      "metadata": {
        "id": "ccciZICdUhmV"
      },
      "source": [
        "#testing the model\n",
        "testaccuracy=model.evaluate(test_i,test_l,verbose=1) #verbose can be 0,1,2.....for 0 nothing is displayed, for 1 bar is diplayed, for 2 epoch no. is mentioned\n"
      ],
      "execution_count": null,
      "outputs": []
    },
    {
      "cell_type": "code",
      "metadata": {
        "id": "85wD4_S6hUbn"
      },
      "source": [
        "p=model.predict(test_i)\n",
        "p1=list()\n",
        "for i in range(len(p)):\n",
        "  x=np.argmax(p[i])\n",
        "  p1.append(x)\n",
        "print(p1)"
      ],
      "execution_count": null,
      "outputs": []
    },
    {
      "cell_type": "code",
      "metadata": {
        "id": "_dpx6CX-mtSj"
      },
      "source": [
        "for i in range(10):\n",
        "  plt.figure()\n",
        "  plt.imshow(test_i[i]) #shows image\n",
        "  plt.colorbar() #shows colour bar on the side of the image\n",
        "  plt.grid(True) #Pts the image on a grid\n",
        "  print(l_names[p1[i]])\n"
      ],
      "execution_count": null,
      "outputs": []
    }
  ]
}